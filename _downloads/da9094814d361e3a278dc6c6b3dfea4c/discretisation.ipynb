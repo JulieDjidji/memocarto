{
  "cells": [
    {
      "cell_type": "code",
      "execution_count": null,
      "metadata": {
        "collapsed": false
      },
      "outputs": [],
      "source": [
        "%matplotlib inline"
      ]
    },
    {
      "cell_type": "markdown",
      "metadata": {},
      "source": [
        "\n# Retour sur la discr\u00e9tisation des variables quantitatives\nLes m\u00e9thodes de discr\u00e9tisation les plus courantes sont disponibles sous Geopandas (quantile, intervalle \u00e9gal, Jenks). La discr\u00e9tisation dite de Jenks qui recherche \u00e0 construire des classes les plus homog\u00e8nes possibles est en g\u00e9n\u00e9rale la plus pertinente. N\u00e9anmoins, ce n'est pas toujours le cas, comme en t\u00e9moigne les cartes suivantes de densit\u00e9 de population d\u00e9partementale.\n\n"
      ]
    },
    {
      "cell_type": "code",
      "execution_count": null,
      "metadata": {
        "collapsed": false
      },
      "outputs": [],
      "source": [
        "# sphinx_gallery_thumbnail_number = 3\nimport pandas as pd\nimport geopandas as gpd\nimport numpy as np\n\nimport matplotlib.pyplot as plt"
      ]
    },
    {
      "cell_type": "markdown",
      "metadata": {},
      "source": [
        "## Lecture des donn\u00e9es\n\nOn ouvre le fond du b\u00e2ti de la ville de Caen.\n\n"
      ]
    }
  ],
  "metadata": {
    "kernelspec": {
      "display_name": "Python 3",
      "language": "python",
      "name": "python3"
    },
    "language_info": {
      "codemirror_mode": {
        "name": "ipython",
        "version": 3
      },
      "file_extension": ".py",
      "mimetype": "text/x-python",
      "name": "python",
      "nbconvert_exporter": "python",
      "pygments_lexer": "ipython3",
      "version": "3.6.7"
    }
  },
  "nbformat": 4,
  "nbformat_minor": 0
}