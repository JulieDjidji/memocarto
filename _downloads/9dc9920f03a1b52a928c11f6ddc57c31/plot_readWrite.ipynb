{
  "cells": [
    {
      "cell_type": "code",
      "execution_count": null,
      "metadata": {
        "collapsed": false
      },
      "outputs": [],
      "source": [
        "%matplotlib inline"
      ]
    },
    {
      "cell_type": "markdown",
      "metadata": {},
      "source": [
        "\n# Premi\u00e8res manipulations de donn\u00e9es spatiales\nDans ce notebook, nous allons apprendre \u00e0 lire, \u00e9crire, merger et aggr\u00e9ger des donn\u00e9es spatiales.\n\n"
      ]
    },
    {
      "cell_type": "code",
      "execution_count": null,
      "metadata": {
        "collapsed": false
      },
      "outputs": [],
      "source": [
        "# sphinx_gallery_thumbnail_number = 1\nimport os\nimport pandas as pd\nimport geopandas as gpd\nimport config"
      ]
    },
    {
      "cell_type": "markdown",
      "metadata": {},
      "source": [
        "## Ouverture des donn\u00e9es\n\nLes donn\u00e9es attributaires proviennent du recensement de la population de 2017. La base commune contient la population communale, PTOT (et par arrondissement pour Paris, Lyon et Marseille). Attention, les donn\u00e9es sont en g\u00e9ographie 2019.\n\n"
      ]
    },
    {
      "cell_type": "code",
      "execution_count": null,
      "metadata": {
        "collapsed": false
      },
      "outputs": [],
      "source": [
        "population = pd.read_csv(os.getenv(\"URL_DATA_COMMUNES\"), sep=\";\", dtype={'DEPCOM':str})\npopulation.head(2)"
      ]
    },
    {
      "cell_type": "markdown",
      "metadata": {},
      "source": [
        "On ouvre le fond des communes et on lui rajoute les arrondissements.\n\n"
      ]
    },
    {
      "cell_type": "code",
      "execution_count": null,
      "metadata": {
        "collapsed": false
      },
      "outputs": [],
      "source": [
        "commune = gpd.read_file(os.getenv(\"URL_GEOJSON_COMMUNES\"))\narmf = gpd.read_file(os.getenv(\"URL_GEOJSON_ARMF\"))\narmf['dep'] = armf.code.str.slice(0,3) # il manque le num\u00e8ro de d\u00e9partement dans le fond armf\ncommune = commune.append(armf, sort=False)"
      ]
    },
    {
      "cell_type": "markdown",
      "metadata": {},
      "source": [
        "## Jointure des donn\u00e9es\n\nLa jointure entre les deux tables s'op\u00e8re simplement \u00e0 l'aide de la fonction ``gpd.merge()``.\n\n"
      ]
    },
    {
      "cell_type": "code",
      "execution_count": null,
      "metadata": {
        "collapsed": false
      },
      "outputs": [],
      "source": [
        "pop_com = commune.merge(population, left_on='code', right_on='DEPCOM')"
      ]
    },
    {
      "cell_type": "markdown",
      "metadata": {},
      "source": [
        "On peut afficher une carte de densit\u00e9 en quelques lignes de code en recourant \u00e0 la fonction ``gpd.plot()``. \n\n"
      ]
    },
    {
      "cell_type": "code",
      "execution_count": null,
      "metadata": {
        "collapsed": false
      },
      "outputs": [],
      "source": [
        "pop_com['densite'] = pop_com.PTOT / pop_com.geometry.area * 1000000 \nax = pop_com.plot('densite',legend=True, scheme='quantiles', cmap='OrRd', figsize=(10,10))"
      ]
    },
    {
      "cell_type": "markdown",
      "metadata": {},
      "source": [
        "## Aggregation des donn\u00e9es pour produire des donn\u00e9es d\u00e9partementales et r\u00e9gionales\n\nL'aggr\u00e9gation des donn\u00e9es spatiales s'effectue \u00e0 l'aide de la fonction ``gpd.dissolve()`` qui repose sur la m\u00e9thode **groupby** de pandas. **aggfunc** d\u00e9finit la fonction a appliqu\u00e9 aux donn\u00e9es attributaires.\n\n"
      ]
    },
    {
      "cell_type": "markdown",
      "metadata": {},
      "source": [
        "### Carte au niveau d\u00e9partemental\n\n"
      ]
    },
    {
      "cell_type": "code",
      "execution_count": null,
      "metadata": {
        "collapsed": false
      },
      "outputs": [],
      "source": [
        "pop_dep = pop_com.dissolve(by='dep', aggfunc='sum', as_index=False)\npop_dep['densite'] = pop_dep.PTOT / pop_dep.geometry.area * 1000000\nax = pop_dep.plot('densite',legend=True, scheme='quantiles', figsize=(10,10),cmap='OrRd')"
      ]
    },
    {
      "cell_type": "markdown",
      "metadata": {},
      "source": [
        "### Carte au niveau r\u00e9gional\n\n"
      ]
    },
    {
      "cell_type": "code",
      "execution_count": null,
      "metadata": {
        "collapsed": false
      },
      "outputs": [],
      "source": [
        "pop_reg = pop_com.dissolve(by='reg', aggfunc='sum', as_index=False)\npop_reg['densite'] = pop_reg.PTOT / pop_reg.geometry.area * 1000000\nax = pop_reg.plot('densite',legend=True, scheme='quantiles', figsize=(10,10),cmap='OrRd')"
      ]
    }
  ],
  "metadata": {
    "kernelspec": {
      "display_name": "Python 3",
      "language": "python",
      "name": "python3"
    },
    "language_info": {
      "codemirror_mode": {
        "name": "ipython",
        "version": 3
      },
      "file_extension": ".py",
      "mimetype": "text/x-python",
      "name": "python",
      "nbconvert_exporter": "python",
      "pygments_lexer": "ipython3",
      "version": "3.6.7"
    }
  },
  "nbformat": 4,
  "nbformat_minor": 0
}