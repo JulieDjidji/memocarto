{
  "cells": [
    {
      "cell_type": "code",
      "execution_count": null,
      "metadata": {
        "collapsed": false
      },
      "outputs": [],
      "source": [
        "%matplotlib inline"
      ]
    },
    {
      "cell_type": "markdown",
      "metadata": {},
      "source": [
        "\n# Exploitation des flux WFS et WMS\nDans ce notebook, nous allons exploiter des flux WMS et WFS, comprendre leur contenu et afficher les cartes. Ces deux protocoles sont pr\u00e9sent\u00e9s dans la section `geoserver`.\nNous utilisons les services mis \u00e0 disposition par le partenariat breton des donn\u00e9es g\u00e9olocalis\u00e9es sur le site https://cms.geobretagne.fr. Les services propos\u00e9s sont list\u00e9s \u00e0 l'adresse https://cms.geobretagne.fr/services.\n\n"
      ]
    },
    {
      "cell_type": "code",
      "execution_count": null,
      "metadata": {
        "collapsed": false
      },
      "outputs": [],
      "source": [
        "# sphinx_gallery_thumbnail_number = 1\nimport io\nimport matplotlib.pyplot as plt\nimport requests\nimport geopandas as gpd\nfrom owslib.wms import WebMapService\nfrom owslib.wfs import WebFeatureService\nimport json\nfrom lxml import etree"
      ]
    },
    {
      "cell_type": "markdown",
      "metadata": {},
      "source": [
        "## R\u00e9cup\u00e9ration du flux  WFS\n\n\n"
      ]
    },
    {
      "cell_type": "markdown",
      "metadata": {},
      "source": [
        "### Exploration du contenu de la requ\u00eate GetCapabilities\n\nOn effectue la requ\u00eate GetCapabilities qui permet d'acc\u00e9der aux param\u00e8tres du service et aux couches disponibles avec les informations n\u00e9cessaires pour param\u00e9trer les requ\u00eates.\n\n"
      ]
    },
    {
      "cell_type": "code",
      "execution_count": null,
      "metadata": {
        "collapsed": false
      },
      "outputs": [],
      "source": [
        "wfs_url=\"https://ows.region-bretagne.fr/geoserver/rb/wfs?service=wfs&request=getCapabilities\"\nresponse=requests.get(wfs_url).content"
      ]
    },
    {
      "cell_type": "markdown",
      "metadata": {},
      "source": [
        "On peut par exemple afficher l'ensemble des op\u00e9rations r\u00e9alisables avec ce service. \n\n"
      ]
    },
    {
      "cell_type": "code",
      "execution_count": null,
      "metadata": {
        "collapsed": false
      },
      "outputs": [],
      "source": [
        "root=etree.fromstring(response)\n\nns={'xsi':\"http://www.w3.org/2001/XMLSchema-instance\",\n        'wfs':\"http://www.opengis.net/wfs/2.0\",\n        'wps':\"http://www.opengis.net/wps/1.0.0\",\n        'ows':\"http://www.opengis.net/ows/1.1\",\n        'gml':\"http://www.opengis.net/gml/3.2\",\n        'fes':\"http://www.opengis.net/fes/2.0\",\n        'xlink':\"http://www.w3.org/1999/xlink\",\n        'xs':\"http://www.w3.org/2001/XMLSchema\",\n        'inspire_dls':\"http://inspire.ec.europa.eu/schemas/inspire_dls/1.0\",\n        'inspire_common':\"http://inspire.ec.europa.eu/schemas/common/1.0\",\n        'rb':\"http://bretagne.fr/rb\",\n        'schemaLocation':\"http://www.opengis.net/wfs/2.0 https://ows.region-bretagne.fr/geoserver/schemas/wfs/2.0/wfs.xsd http://inspire.ec.europa.eu/schemas/inspire_dls/1.0 http://inspire.ec.europa.eu/schemas/inspire_dls/1.0/inspire_dls.xsd\"\n    }\n\nfor element in root.findall('.//ows:Operation', ns):\n    print(element.attrib)"
      ]
    },
    {
      "cell_type": "markdown",
      "metadata": {},
      "source": [
        "On peut aussi afficher le nom des couches disponibles\n\n"
      ]
    },
    {
      "cell_type": "code",
      "execution_count": null,
      "metadata": {
        "collapsed": false
      },
      "outputs": [],
      "source": [
        "root=etree.fromstring(response)\nfeatures=[]\nfor name in root.iter('{http://www.opengis.net/wfs/2.0}Name'):\n    features.append(name.text)\nprint(features[0:4])"
      ]
    },
    {
      "cell_type": "markdown",
      "metadata": {},
      "source": [
        "### R\u00e9cup\u00e9ration des donn\u00e9es de la couche relative aux aires urbaines\n\n\n"
      ]
    },
    {
      "cell_type": "markdown",
      "metadata": {},
      "source": [
        "M\u00e9thode 1 : on peut les r\u00e9cup\u00e9rer directement si on conna\u00eet la formulation de la requ\u00eate\n\n"
      ]
    },
    {
      "cell_type": "code",
      "execution_count": null,
      "metadata": {
        "collapsed": false
      },
      "outputs": [],
      "source": [
        "wfs_url=\"https://ows.region-bretagne.fr/geoserver/rb/wfs?service=wfs&version=2.0.0&request=GetFeature&typeName=rb:aire_urbaine&outputFormat=json\""
      ]
    },
    {
      "cell_type": "markdown",
      "metadata": {},
      "source": [
        "On affiche les premi\u00e8res observations de la base de donn\u00e9es\n\n"
      ]
    },
    {
      "cell_type": "code",
      "execution_count": null,
      "metadata": {
        "collapsed": false
      },
      "outputs": [],
      "source": [
        "gpd.read_file(wfs_url).head(2)"
      ]
    },
    {
      "cell_type": "markdown",
      "metadata": {},
      "source": [
        "On affiche la carte diffus\u00e9e par le flux WFS\n\n"
      ]
    },
    {
      "cell_type": "code",
      "execution_count": null,
      "metadata": {
        "collapsed": false
      },
      "outputs": [],
      "source": [
        "ax=gpd.read_file(wfs_url).plot()"
      ]
    },
    {
      "cell_type": "markdown",
      "metadata": {},
      "source": [
        "M\u00e9thode 2 : on peut les r\u00e9cup\u00e9rer \u00e0 partir du package owslib\n\n"
      ]
    },
    {
      "cell_type": "markdown",
      "metadata": {},
      "source": [
        "On indique l'URL du service\n\n"
      ]
    },
    {
      "cell_type": "code",
      "execution_count": null,
      "metadata": {
        "collapsed": false
      },
      "outputs": [],
      "source": [
        "url = \"https://ows.region-bretagne.fr/geoserver/rb/wfs\""
      ]
    },
    {
      "cell_type": "markdown",
      "metadata": {},
      "source": [
        "On initialise\n\n"
      ]
    },
    {
      "cell_type": "code",
      "execution_count": null,
      "metadata": {
        "collapsed": false
      },
      "outputs": [],
      "source": [
        "wfs = WebFeatureService(url=url)"
      ]
    },
    {
      "cell_type": "markdown",
      "metadata": {},
      "source": [
        "On peut afficher le nom des couches disponibles\n\n"
      ]
    },
    {
      "cell_type": "code",
      "execution_count": null,
      "metadata": {
        "collapsed": false
      },
      "outputs": [],
      "source": [
        "print(list(wfs.contents)[0:4])"
      ]
    },
    {
      "cell_type": "markdown",
      "metadata": {},
      "source": [
        "On pr\u00e9cise la couche souhait\u00e9e\n\n"
      ]
    },
    {
      "cell_type": "code",
      "execution_count": null,
      "metadata": {
        "collapsed": false
      },
      "outputs": [],
      "source": [
        "layer='rb:aire_urbaine'"
      ]
    },
    {
      "cell_type": "markdown",
      "metadata": {},
      "source": [
        "On effectue la requ\u00eate pour r\u00e9cup\u00e9rer les donn\u00e9es\n\n"
      ]
    },
    {
      "cell_type": "code",
      "execution_count": null,
      "metadata": {
        "collapsed": false
      },
      "outputs": [],
      "source": [
        "params = dict(service='WFS', version=\"1.0.0\", request='GetFeature',\n      typeName=layer, outputFormat='json')\nq = requests.Request('GET', url, params=params).prepare().url"
      ]
    },
    {
      "cell_type": "markdown",
      "metadata": {},
      "source": [
        "On met en forme les donn\u00e9es et affiche les deux premi\u00e8res observations\n\n"
      ]
    },
    {
      "cell_type": "code",
      "execution_count": null,
      "metadata": {
        "collapsed": false
      },
      "outputs": [],
      "source": [
        "data = gpd.read_file(q)\ndata.head(2)"
      ]
    },
    {
      "cell_type": "markdown",
      "metadata": {},
      "source": [
        "## R\u00e9cup\u00e9ration et exploitation du flux  WMS\n\n\n"
      ]
    },
    {
      "cell_type": "markdown",
      "metadata": {},
      "source": [
        "### Affichage de la carte diffus\u00e9e relative \u00e0 la couche de la localisation des c\u0153urs d'habitat (ou r\u00e9servoirs de biodiversit\u00e9) du campagnol amphibie en Bretagne et Loire-Atlantique continentales.\n\nM\u00e9thode 1 : on peut r\u00e9cup\u00e9rer directement l'image si on conna\u00eet la formulation de la requ\u00eate avec la requ\u00eate GetMap puis l'afficher\n\n"
      ]
    },
    {
      "cell_type": "code",
      "execution_count": null,
      "metadata": {
        "collapsed": false
      },
      "outputs": [],
      "source": [
        "wfs_url=\"https://geobretagne.fr/geoserver/gmb/wms?request=GetMap&format=image/png&width=600&height=600&layers=campagnol_amphibie&bbox=124702.3554,6651480.7257,403802.3554,6881080.7257&CRS=EPSG:2154\"\n\nresponse=requests.get(wfs_url).content\nimg=plt.imread(io.BytesIO(response))\nax=plt.imshow(img)"
      ]
    },
    {
      "cell_type": "markdown",
      "metadata": {},
      "source": [
        "M\u00e9thode 2 : on peut la r\u00e9cup\u00e9rer \u00e0 partir du package owslib\n\n"
      ]
    },
    {
      "cell_type": "code",
      "execution_count": null,
      "metadata": {
        "collapsed": false
      },
      "outputs": [],
      "source": [
        "wms = WebMapService('https://geobretagne.fr/geoserver/gmb/wms')\n\nname = 'campagnol_amphibie'\nlayer = wms.contents[name]\nresponse = wms.getmap(layers=[name,],\n                 bbox=layer.boundingBox[0:4], # Left, bottom, right, top\n                 format='image/png',\n                 size=(600,600),\n                 srs=layer.boundingBox[4],\n                 time=layer.timepositions,\n                 transparent=True)\n\nimg=plt.imread(io.BytesIO(response.read()))\nax=plt.imshow(img)"
      ]
    }
  ],
  "metadata": {
    "kernelspec": {
      "display_name": "Python 3",
      "language": "python",
      "name": "python3"
    },
    "language_info": {
      "codemirror_mode": {
        "name": "ipython",
        "version": 3
      },
      "file_extension": ".py",
      "mimetype": "text/x-python",
      "name": "python",
      "nbconvert_exporter": "python",
      "pygments_lexer": "ipython3",
      "version": "3.6.7"
    }
  },
  "nbformat": 4,
  "nbformat_minor": 0
}