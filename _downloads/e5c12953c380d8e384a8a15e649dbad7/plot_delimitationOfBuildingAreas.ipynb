{
  "cells": [
    {
      "cell_type": "code",
      "execution_count": null,
      "metadata": {
        "collapsed": false
      },
      "outputs": [],
      "source": [
        "%matplotlib inline"
      ]
    },
    {
      "cell_type": "markdown",
      "metadata": {},
      "source": [
        "\n# D\u00e9limitation de t\u00e2ches b\u00e2ties\nDans ce notebook, nous allons d\u00e9limiter des zones b\u00e2ties pour la ville de Caen.\n\n"
      ]
    },
    {
      "cell_type": "code",
      "execution_count": null,
      "metadata": {
        "collapsed": false
      },
      "outputs": [],
      "source": [
        "# sphinx_gallery_thumbnail_number = 3\nimport os\nimport numpy as np\nimport pandas as pd\nimport matplotlib.pyplot as plt\nimport geopandas as gpd"
      ]
    },
    {
      "cell_type": "markdown",
      "metadata": {},
      "source": [
        "## Lecture des donn\u00e9es\n\nOn ouvre le fond du b\u00e2ti de la ville de Caen.\n\n"
      ]
    },
    {
      "cell_type": "code",
      "execution_count": null,
      "metadata": {
        "collapsed": false
      },
      "outputs": [],
      "source": [
        "bati = gpd.read_file(os.getenv(\"URL_BATI_VILLE\"))"
      ]
    },
    {
      "cell_type": "markdown",
      "metadata": {},
      "source": [
        "## D\u00e9limitation des zones b\u00e2ties\n\nOn calcule un buffer de 100 m\u00e8tres autour de chaque b\u00e2timent.\n\n"
      ]
    },
    {
      "cell_type": "code",
      "execution_count": null,
      "metadata": {
        "collapsed": false
      },
      "outputs": [],
      "source": [
        "bati_buffer_positif=bati.copy()\nbati_buffer_positif['geometry']=bati_buffer_positif.geometry.buffer(100)"
      ]
    },
    {
      "cell_type": "markdown",
      "metadata": {},
      "source": [
        "On fusionne les buffers avec une intersection non nulle et on affiche les zones fusionn\u00e9es.\n\n"
      ]
    },
    {
      "cell_type": "code",
      "execution_count": null,
      "metadata": {
        "collapsed": false
      },
      "outputs": [],
      "source": [
        "union_buffer=gpd.GeoDataFrame({'geometry':bati_buffer_positif.unary_union})\nax = union_buffer.plot()"
      ]
    },
    {
      "cell_type": "markdown",
      "metadata": {},
      "source": [
        "On effectue un buffer n\u00e9gatif pour affiner la d\u00e9limitation afin de compenser le buffer positif pr\u00e9lablement r\u00e9aliser pour capter les relations de b\u00e2timents voisins. L'affichage de la carte montre des zones plus d\u00e9limit\u00e9es.\n\n"
      ]
    },
    {
      "cell_type": "code",
      "execution_count": null,
      "metadata": {
        "collapsed": false
      },
      "outputs": [],
      "source": [
        "union_buffer_negatif=union_buffer.copy()\nunion_buffer_negatif['geometry']=union_buffer_negatif.buffer(-100)\nax = union_buffer_negatif['geometry'].plot()"
      ]
    },
    {
      "cell_type": "markdown",
      "metadata": {},
      "source": [
        "On d\u00e9cide d'afficher que les zones de plus de 8 hectares.\n\n"
      ]
    },
    {
      "cell_type": "code",
      "execution_count": null,
      "metadata": {
        "collapsed": false
      },
      "outputs": [],
      "source": [
        "union_buffer_negatif['aire']=union_buffer_negatif['geometry'].area/10000\nax = union_buffer_negatif[union_buffer_negatif.aire>8].plot()"
      ]
    }
  ],
  "metadata": {
    "kernelspec": {
      "display_name": "Python 3",
      "language": "python",
      "name": "python3"
    },
    "language_info": {
      "codemirror_mode": {
        "name": "ipython",
        "version": 3
      },
      "file_extension": ".py",
      "mimetype": "text/x-python",
      "name": "python",
      "nbconvert_exporter": "python",
      "pygments_lexer": "ipython3",
      "version": "3.6.7"
    }
  },
  "nbformat": 4,
  "nbformat_minor": 0
}